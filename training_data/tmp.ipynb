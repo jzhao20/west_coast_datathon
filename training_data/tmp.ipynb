{
 "cells": [
  {
   "cell_type": "code",
   "execution_count": 14,
   "metadata": {},
   "outputs": [
    {
     "name": "stdout",
     "output_type": "stream",
     "text": [
      "0.2852674382233344\n",
      "0.29746637472630594\n"
     ]
    }
   ],
   "source": [
    "import pandas as pd\n",
    "import numpy as np\n",
    "\n",
    "df=pd.read_csv('./df_infogain.csv')\n",
    "ids=df['test_id']\n",
    "winner=df['winner']\n",
    "perp_headline=df['perp_score_headline']\n",
    "perp_lede=df['perp_score']\n",
    "\n",
    "tests_of_interest={}\n",
    "for i in range(0,len(ids)):\n",
    "    if ids[i] not in tests_of_interest.keys():\n",
    "        tests_of_interest[ids[i]]=[i]\n",
    "    else:\n",
    "        tests_of_interest[ids[i]].append(i)\n",
    "\n",
    "headline_winner = lambda a: np.argmax([perp_headline[index] for index in a])\n",
    "lede_winner= lambda a: np.argmax([perp_lede[index] for index in a])\n",
    "is_valid= lambda a: sum([winner[i] for i in a])\n",
    "headlines=[]\n",
    "ledes=[]\n",
    "for test in tests_of_interest.values():\n",
    "    if len(test)>1 and is_valid(test):\n",
    "        #make sure there exists a winner in it else we're always wrong\n",
    "        h=headline_winner(test)\n",
    "        l=lede_winner(test)\n",
    "        headlines.append(winner[test[h]])\n",
    "        ledes.append(winner[test[l]])\n",
    "        #want to find if that lines up\n",
    "print(sum(headlines)/len(headlines))\n",
    "print(sum(ledes)/len(ledes))\n"
   ]
  }
 ],
 "metadata": {
  "interpreter": {
   "hash": "916dbcbb3f70747c44a77c7bcd40155683ae19c65e1c03b4aa3499c5328201f1"
  },
  "kernelspec": {
   "display_name": "Python 3.8.10 64-bit",
   "name": "python3"
  },
  "language_info": {
   "codemirror_mode": {
    "name": "ipython",
    "version": 3
   },
   "file_extension": ".py",
   "mimetype": "text/x-python",
   "name": "python",
   "nbconvert_exporter": "python",
   "pygments_lexer": "ipython3",
   "version": "3.8.10"
  },
  "orig_nbformat": 4
 },
 "nbformat": 4,
 "nbformat_minor": 2
}
